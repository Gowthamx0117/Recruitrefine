{
  "cells": [
    {
      "cell_type": "code",
      "execution_count": 1,
      "metadata": {
        "colab": {
          "base_uri": "https://localhost:8080/"
        },
        "id": "HEGpqcQobMq_",
        "outputId": "da2f0238-f3cd-48e9-e458-7b801d4ce882"
      },
      "outputs": [
        {
          "name": "stderr",
          "output_type": "stream",
          "text": [
            "[nltk_data] Downloading package stopwords to\n",
            "[nltk_data]     C:\\Users\\admin\\AppData\\Roaming\\nltk_data...\n",
            "[nltk_data]   Package stopwords is already up-to-date!\n",
            "[nltk_data] Downloading package punkt to\n",
            "[nltk_data]     C:\\Users\\admin\\AppData\\Roaming\\nltk_data...\n",
            "[nltk_data]   Package punkt is already up-to-date!\n"
          ]
        },
        {
          "data": {
            "text/plain": [
              "True"
            ]
          },
          "execution_count": 1,
          "metadata": {},
          "output_type": "execute_result"
        }
      ],
      "source": [
        "# Import necessary libraries\n",
        "import pandas as pd\n",
        "import numpy as np\n",
        "import nltk\n",
        "from sklearn.feature_extraction.text import TfidfVectorizer\n",
        "from sklearn.metrics.pairwise import cosine_similarity\n",
        "\n",
        "# Download NLTK data\n",
        "nltk.download(\"stopwords\")\n",
        "nltk.download(\"punkt\")\n"
      ]
    },
    {
      "cell_type": "code",
      "execution_count": 2,
      "metadata": {
        "colab": {
          "base_uri": "https://localhost:8080/",
          "height": 299
        },
        "id": "5Cr2sL_8bhib",
        "outputId": "cd2806b0-6d34-4734-c0bc-4439ff718dc5"
      },
      "outputs": [
        {
          "name": "stdout",
          "output_type": "stream",
          "text": [
            "                                              Resume  \\\n",
            "0  AI researcher with a strong foundation in deep...   \n",
            "1  Cloud architect with hands-on experience in AW...   \n",
            "2  AI researcher with a strong foundation in mach...   \n",
            "3  AI researcher with a strong foundation in mach...   \n",
            "4  Data analyst with 9 years of experience in dee...   \n",
            "\n",
            "                                     Job_Description  \n",
            "0  Hiring a software engineer with experience in ...  \n",
            "1  Looking for a data analyst with expertise in A...  \n",
            "2  Hiring a software engineer with experience in ...  \n",
            "3  Hiring a software engineer with experience in ...  \n",
            "4  Hiring a software engineer with experience in ...  \n"
          ]
        }
      ],
      "source": [
        "#from google.colab import files\n",
        "#uploaded = files.upload()  # Upload the dataset file\n",
        "\n",
        "# Load the dataset\n",
        "df = pd.read_csv(r\"C:\\Users\\admin\\Downloads\\AI_Powered_Resume_Screening_project\\resume_data_1000_entries.csv\")\n",
        "print(df.head())\n"
      ]
    },
    {
      "cell_type": "code",
      "execution_count": 3,
      "metadata": {
        "colab": {
          "base_uri": "https://localhost:8080/"
        },
        "id": "x-8AmAhIbtou",
        "outputId": "413921f7-de4a-4bf6-f0c6-fe58b1fa4ef4"
      },
      "outputs": [
        {
          "name": "stderr",
          "output_type": "stream",
          "text": [
            "[nltk_data] Downloading package stopwords to\n",
            "[nltk_data]     C:\\Users\\admin\\AppData\\Roaming\\nltk_data...\n",
            "[nltk_data]   Package stopwords is already up-to-date!\n",
            "[nltk_data] Downloading package punkt_tab to\n",
            "[nltk_data]     C:\\Users\\admin\\AppData\\Roaming\\nltk_data...\n",
            "[nltk_data]   Package punkt_tab is already up-to-date!\n"
          ]
        },
        {
          "name": "stdout",
          "output_type": "stream",
          "text": [
            "                                      Resume_Cleaned  \\\n",
            "0  ai researcher strong foundation deep learning ...   \n",
            "1  cloud architect hands experience aws azure gcp...   \n",
            "2  ai researcher strong foundation machine learni...   \n",
            "3  ai researcher strong foundation machine learni...   \n",
            "4  data analyst 9 years experience deep learning ...   \n",
            "\n",
            "                             Job_Description_Cleaned  \n",
            "0  hiring software engineer experience cloud migr...  \n",
            "1  looking data analyst expertise aws azure gcp d...  \n",
            "2  hiring software engineer experience microservi...  \n",
            "3  hiring software engineer experience cloud migr...  \n",
            "4  hiring software engineer experience responsive...  \n"
          ]
        }
      ],
      "source": [
        "import re\n",
        "import nltk\n",
        "from nltk.corpus import stopwords\n",
        "from nltk.tokenize import word_tokenize\n",
        "\n",
        "# Ensure all required NLTK resources are downloaded\n",
        "nltk.download(\"stopwords\")\n",
        "nltk.download(\"punkt_tab\")\n",
        "\n",
        "# Preprocessing function\n",
        "def preprocess_text(text):\n",
        "    # Convert to lowercase\n",
        "    text = text.lower()\n",
        "    # Remove special characters\n",
        "    text = re.sub(r'\\W', ' ', text)\n",
        "    # Tokenize\n",
        "    tokens = word_tokenize(text)\n",
        "    # Remove stopwords\n",
        "    tokens = [word for word in tokens if word not in stopwords.words(\"english\")]\n",
        "    return ' '.join(tokens)\n",
        "\n",
        "# Apply preprocessing to resumes and job descriptions\n",
        "df[\"Resume_Cleaned\"] = df[\"Resume\"].apply(preprocess_text)\n",
        "df[\"Job_Description_Cleaned\"] = df[\"Job_Description\"].apply(preprocess_text)\n",
        "\n",
        "# Display preprocessed columns\n",
        "print(df[[\"Resume_Cleaned\", \"Job_Description_Cleaned\"]].head())\n",
        "\n"
      ]
    },
    {
      "cell_type": "code",
      "execution_count": 4,
      "metadata": {
        "id": "em1Ht3YMb27_"
      },
      "outputs": [],
      "source": [
        "# Initialize TF-IDF vectorizer\n",
        "tfidf = TfidfVectorizer()\n",
        "\n",
        "# Combine text data for fitting the vectorizer\n",
        "combined_text = df[\"Resume_Cleaned\"].tolist() + df[\"Job_Description_Cleaned\"].tolist()\n",
        "\n",
        "# Fit and transform text data\n",
        "vectors = tfidf.fit_transform(combined_text)\n",
        "\n",
        "# Split the vectors into resume and job description vectors\n",
        "resume_vectors = vectors[:len(df)]\n",
        "job_description_vectors = vectors[len(df):]\n"
      ]
    },
    {
      "cell_type": "code",
      "execution_count": 5,
      "metadata": {
        "colab": {
          "base_uri": "https://localhost:8080/"
        },
        "id": "mDzPDctPcwpp",
        "outputId": "2f972cc6-4091-4b85-f04d-68fea29d04dc"
      },
      "outputs": [
        {
          "name": "stdout",
          "output_type": "stream",
          "text": [
            "                                              Resume  \\\n",
            "0  AI researcher with a strong foundation in deep...   \n",
            "1  Cloud architect with hands-on experience in AW...   \n",
            "2  AI researcher with a strong foundation in mach...   \n",
            "3  AI researcher with a strong foundation in mach...   \n",
            "4  Data analyst with 9 years of experience in dee...   \n",
            "\n",
            "                                     Job_Description  Similarity_Score  \n",
            "0  Hiring a software engineer with experience in ...          0.222469  \n",
            "1  Looking for a data analyst with expertise in A...          0.274408  \n",
            "2  Hiring a software engineer with experience in ...          0.000000  \n",
            "3  Hiring a software engineer with experience in ...          0.000000  \n",
            "4  Hiring a software engineer with experience in ...          0.019726  \n"
          ]
        }
      ],
      "source": [
        "# Calculate cosine similarity\n",
        "similarities = cosine_similarity(resume_vectors, job_description_vectors)\n",
        "\n",
        "# Extract diagonal values as scores\n",
        "df[\"Similarity_Score\"] = similarities.diagonal()\n",
        "\n",
        "# View data with similarity scores\n",
        "print(df[[\"Resume\", \"Job_Description\", \"Similarity_Score\"]].head())\n"
      ]
    },
    {
      "cell_type": "code",
      "execution_count": 6,
      "metadata": {
        "colab": {
          "base_uri": "https://localhost:8080/"
        },
        "id": "HIP30uI1c1f1",
        "outputId": "1501730a-4936-4ade-bb50-5302337cfcc7"
      },
      "outputs": [
        {
          "name": "stdout",
          "output_type": "stream",
          "text": [
            "                                                Resume  \\\n",
            "670  Cloud architect with hands-on experience in mu...   \n",
            "896  Cloud architect with hands-on experience in mu...   \n",
            "194  Cloud architect with hands-on experience in mu...   \n",
            "123  Software engineer with 8 years of experience i...   \n",
            "515  Software engineer with 1 years of experience i...   \n",
            "\n",
            "                                       Job_Description  Similarity_Score  \n",
            "670  Seeking a cloud architect with experience in m...          0.877438  \n",
            "896  Seeking a cloud architect with experience in m...          0.855002  \n",
            "194  Seeking a cloud architect with experience in m...          0.842446  \n",
            "123  Hiring a software engineer with experience in ...          0.823498  \n",
            "515  Hiring a software engineer with experience in ...          0.807695  \n"
          ]
        }
      ],
      "source": [
        "# Sort by similarity score\n",
        "ranked_df = df.sort_values(by=\"Similarity_Score\", ascending=False)\n",
        "\n",
        "# Display top matches\n",
        "print(ranked_df[[\"Resume\", \"Job_Description\", \"Similarity_Score\"]].head())\n"
      ]
    },
    {
      "cell_type": "code",
      "execution_count": 8,
      "metadata": {
        "colab": {
          "base_uri": "https://localhost:8080/",
          "height": 52
        },
        "id": "upDRNUvDc41v",
        "outputId": "af36b848-969a-4953-affc-a9ebe766d385"
      },
      "outputs": [
        {
          "name": "stdout",
          "output_type": "stream",
          "text": [
            "Ranked resumes saved as ranked_resumes.csv\n",
            "Ranked resumes saved and ready for download as ranked_resumes.csv\n"
          ]
        }
      ],
      "source": [
        "# Save the ranked results to a new CSV file\n",
        "ranked_df.to_csv(\"ranked_resumes.csv\", index=False)\n",
        "\n",
        "print(\"Ranked resumes saved as ranked_resumes.csv\")\n",
        "\n",
        "#files.download(\"ranked_resumes.csv\")\n",
        "\n",
        "print(\"Ranked resumes saved and ready for download as ranked_resumes.csv\")\n"
      ]
    },
    {
      "cell_type": "code",
      "execution_count": 10,
      "metadata": {
        "colab": {
          "base_uri": "https://localhost:8080/",
          "height": 564
        },
        "id": "q2J0tYM1c7_D",
        "outputId": "654b3ad9-c00b-4ead-bd1f-8fcc981fe157"
      },
      "outputs": [
        {
          "name": "stdout",
          "output_type": "stream",
          "text": [
            "Defaulting to user installation because normal site-packages is not writeable\n",
            "Collecting matplotlib\n",
            "  Downloading matplotlib-3.10.0-cp310-cp310-win_amd64.whl.metadata (11 kB)\n",
            "Collecting contourpy>=1.0.1 (from matplotlib)\n",
            "  Downloading contourpy-1.3.1-cp310-cp310-win_amd64.whl.metadata (5.4 kB)\n",
            "Collecting cycler>=0.10 (from matplotlib)\n",
            "  Using cached cycler-0.12.1-py3-none-any.whl.metadata (3.8 kB)\n",
            "Collecting fonttools>=4.22.0 (from matplotlib)\n",
            "  Downloading fonttools-4.55.3-cp310-cp310-win_amd64.whl.metadata (168 kB)\n",
            "Collecting kiwisolver>=1.3.1 (from matplotlib)\n",
            "  Downloading kiwisolver-1.4.8-cp310-cp310-win_amd64.whl.metadata (6.3 kB)\n",
            "Requirement already satisfied: numpy>=1.23 in c:\\users\\admin\\appdata\\roaming\\python\\python310\\site-packages (from matplotlib) (2.0.2)\n",
            "Requirement already satisfied: packaging>=20.0 in c:\\users\\admin\\appdata\\roaming\\python\\python310\\site-packages (from matplotlib) (24.2)\n",
            "Collecting pillow>=8 (from matplotlib)\n",
            "  Downloading pillow-11.1.0-cp310-cp310-win_amd64.whl.metadata (9.3 kB)\n",
            "Collecting pyparsing>=2.3.1 (from matplotlib)\n",
            "  Downloading pyparsing-3.2.1-py3-none-any.whl.metadata (5.0 kB)\n",
            "Requirement already satisfied: python-dateutil>=2.7 in c:\\users\\admin\\appdata\\roaming\\python\\python310\\site-packages (from matplotlib) (2.9.0.post0)\n",
            "Requirement already satisfied: six>=1.5 in c:\\users\\admin\\appdata\\roaming\\python\\python310\\site-packages (from python-dateutil>=2.7->matplotlib) (1.17.0)\n",
            "Downloading matplotlib-3.10.0-cp310-cp310-win_amd64.whl (8.0 MB)\n",
            "   ---------------------------------------- 0.0/8.0 MB ? eta -:--:--\n",
            "   ----- ---------------------------------- 1.0/8.0 MB 5.6 MB/s eta 0:00:02\n",
            "   ---------- ----------------------------- 2.1/8.0 MB 5.6 MB/s eta 0:00:02\n",
            "   --------------- ------------------------ 3.1/8.0 MB 5.3 MB/s eta 0:00:01\n",
            "   -------------------- ------------------- 4.2/8.0 MB 5.4 MB/s eta 0:00:01\n",
            "   --------------------------- ------------ 5.5/8.0 MB 5.3 MB/s eta 0:00:01\n",
            "   --------------------------------- ------ 6.8/8.0 MB 5.4 MB/s eta 0:00:01\n",
            "   ---------------------------------------  7.9/8.0 MB 5.5 MB/s eta 0:00:01\n",
            "   ---------------------------------------- 8.0/8.0 MB 5.3 MB/s eta 0:00:00\n",
            "Downloading contourpy-1.3.1-cp310-cp310-win_amd64.whl (218 kB)\n",
            "Using cached cycler-0.12.1-py3-none-any.whl (8.3 kB)\n",
            "Downloading fonttools-4.55.3-cp310-cp310-win_amd64.whl (2.2 MB)\n",
            "   ---------------------------------------- 0.0/2.2 MB ? eta -:--:--\n",
            "   ------------------ --------------------- 1.0/2.2 MB 5.0 MB/s eta 0:00:01\n",
            "   ---------------------------------------- 2.2/2.2 MB 5.0 MB/s eta 0:00:00\n",
            "Downloading kiwisolver-1.4.8-cp310-cp310-win_amd64.whl (71 kB)\n",
            "Downloading pillow-11.1.0-cp310-cp310-win_amd64.whl (2.6 MB)\n",
            "   ---------------------------------------- 0.0/2.6 MB ? eta -:--:--\n",
            "   ------------------- -------------------- 1.3/2.6 MB 6.1 MB/s eta 0:00:01\n",
            "   ---------------------------------------  2.6/2.6 MB 6.3 MB/s eta 0:00:01\n",
            "   ---------------------------------------- 2.6/2.6 MB 5.6 MB/s eta 0:00:00\n",
            "Downloading pyparsing-3.2.1-py3-none-any.whl (107 kB)\n",
            "Installing collected packages: pyparsing, pillow, kiwisolver, fonttools, cycler, contourpy, matplotlib\n",
            "Successfully installed contourpy-1.3.1 cycler-0.12.1 fonttools-4.55.3 kiwisolver-1.4.8 matplotlib-3.10.0 pillow-11.1.0 pyparsing-3.2.1\n"
          ]
        },
        {
          "data": {
            "image/png": "[encoded data removed]",
            "text/plain": [
              "<Figure size 1000x600 with 1 Axes>"
            ]
          },
          "metadata": {},
          "output_type": "display_data"
        }
      ],
      "source": [
        "!pip install matplotlib\n",
        "import matplotlib.pyplot as plt\n",
        "\n",
        "# Plot similarity scores\n",
        "plt.figure(figsize=(10, 6))\n",
        "plt.hist(df[\"Similarity_Score\"], bins=20, color=\"skyblue\", edgecolor=\"black\")\n",
        "plt.title(\"Distribution of Similarity Scores\")\n",
        "plt.xlabel(\"Similarity Score\")\n",
        "plt.ylabel(\"Frequency\")\n",
        "plt.show()\n"
      ]
    },
    {
      "cell_type": "code",
      "execution_count": 11,
      "metadata": {
        "colab": {
          "base_uri": "https://localhost:8080/"
        },
        "id": "Budr5VsCc_YR",
        "outputId": "e0344670-3639-463c-eb83-21a35a224285"
      },
      "outputs": [
        {
          "name": "stdout",
          "output_type": "stream",
          "text": [
            "Defaulting to user installation because normal site-packages is not writeable\n",
            "Collecting streamlit\n",
            "  Downloading streamlit-1.41.1-py2.py3-none-any.whl.metadata (8.5 kB)\n",
            "Collecting altair<6,>=4.0 (from streamlit)\n",
            "  Downloading altair-5.5.0-py3-none-any.whl.metadata (11 kB)\n",
            "Requirement already satisfied: blinker<2,>=1.0.0 in c:\\users\\admin\\appdata\\roaming\\python\\python310\\site-packages (from streamlit) (1.9.0)\n",
            "Collecting cachetools<6,>=4.0 (from streamlit)\n",
            "  Using cached cachetools-5.5.0-py3-none-any.whl.metadata (5.3 kB)\n",
            "Requirement already satisfied: click<9,>=7.0 in c:\\users\\admin\\appdata\\roaming\\python\\python310\\site-packages (from streamlit) (8.1.8)\n",
            "Requirement already satisfied: numpy<3,>=1.23 in c:\\users\\admin\\appdata\\roaming\\python\\python310\\site-packages (from streamlit) (2.0.2)\n",
            "Requirement already satisfied: packaging<25,>=20 in c:\\users\\admin\\appdata\\roaming\\python\\python310\\site-packages (from streamlit) (24.2)\n",
            "Requirement already satisfied: pandas<3,>=1.4.0 in c:\\users\\admin\\appdata\\roaming\\python\\python310\\site-packages (from streamlit) (2.2.3)\n",
            "Requirement already satisfied: pillow<12,>=7.1.0 in c:\\users\\admin\\appdata\\roaming\\python\\python310\\site-packages (from streamlit) (11.1.0)\n",
            "Requirement already satisfied: protobuf<6,>=3.20 in c:\\users\\admin\\appdata\\roaming\\python\\python310\\site-packages (from streamlit) (5.29.2)\n",
            "Collecting pyarrow>=7.0 (from streamlit)\n",
            "  Downloading pyarrow-19.0.0-cp310-cp310-win_amd64.whl.metadata (3.4 kB)\n",
            "Requirement already satisfied: requests<3,>=2.27 in c:\\users\\admin\\appdata\\roaming\\python\\python310\\site-packages (from streamlit) (2.32.3)\n",
            "Requirement already satisfied: rich<14,>=10.14.0 in c:\\users\\admin\\appdata\\roaming\\python\\python310\\site-packages (from streamlit) (13.9.4)\n",
            "Collecting tenacity<10,>=8.1.0 (from streamlit)\n",
            "  Using cached tenacity-9.0.0-py3-none-any.whl.metadata (1.2 kB)\n",
            "Collecting toml<2,>=0.10.1 (from streamlit)\n",
            "  Using cached toml-0.10.2-py2.py3-none-any.whl.metadata (7.1 kB)\n",
            "Requirement already satisfied: typing-extensions<5,>=4.3.0 in c:\\users\\admin\\appdata\\roaming\\python\\python310\\site-packages (from streamlit) (4.12.2)\n",
            "Collecting watchdog<7,>=2.1.5 (from streamlit)\n",
            "  Using cached watchdog-6.0.0-py3-none-win_amd64.whl.metadata (44 kB)\n",
            "Collecting gitpython!=3.1.19,<4,>=3.0.7 (from streamlit)\n",
            "  Downloading GitPython-3.1.44-py3-none-any.whl.metadata (13 kB)\n",
            "Collecting pydeck<1,>=0.8.0b4 (from streamlit)\n",
            "  Using cached pydeck-0.9.1-py2.py3-none-any.whl.metadata (4.1 kB)\n",
            "Requirement already satisfied: tornado<7,>=6.0.3 in c:\\users\\admin\\appdata\\roaming\\python\\python310\\site-packages (from streamlit) (6.4.2)\n",
            "Requirement already satisfied: jinja2 in c:\\users\\admin\\appdata\\roaming\\python\\python310\\site-packages (from altair<6,>=4.0->streamlit) (3.1.5)\n",
            "Collecting jsonschema>=3.0 (from altair<6,>=4.0->streamlit)\n",
            "  Using cached jsonschema-4.23.0-py3-none-any.whl.metadata (7.9 kB)\n",
            "Collecting narwhals>=1.14.2 (from altair<6,>=4.0->streamlit)\n",
            "  Downloading narwhals-1.22.0-py3-none-any.whl.metadata (10.0 kB)\n",
            "Requirement already satisfied: colorama in c:\\users\\admin\\appdata\\roaming\\python\\python310\\site-packages (from click<9,>=7.0->streamlit) (0.4.6)\n",
            "Collecting gitdb<5,>=4.0.1 (from gitpython!=3.1.19,<4,>=3.0.7->streamlit)\n",
            "  Downloading gitdb-4.0.12-py3-none-any.whl.metadata (1.2 kB)\n",
            "Requirement already satisfied: python-dateutil>=2.8.2 in c:\\users\\admin\\appdata\\roaming\\python\\python310\\site-packages (from pandas<3,>=1.4.0->streamlit) (2.9.0.post0)\n",
            "Requirement already satisfied: pytz>=2020.1 in c:\\users\\admin\\appdata\\roaming\\python\\python310\\site-packages (from pandas<3,>=1.4.0->streamlit) (2024.2)\n",
            "Requirement already satisfied: tzdata>=2022.7 in c:\\users\\admin\\appdata\\roaming\\python\\python310\\site-packages (from pandas<3,>=1.4.0->streamlit) (2024.2)\n",
            "Requirement already satisfied: charset-normalizer<4,>=2 in c:\\users\\admin\\appdata\\roaming\\python\\python310\\site-packages (from requests<3,>=2.27->streamlit) (3.4.1)\n",
            "Requirement already satisfied: idna<4,>=2.5 in c:\\users\\admin\\appdata\\roaming\\python\\python310\\site-packages (from requests<3,>=2.27->streamlit) (3.10)\n",
            "Requirement already satisfied: urllib3<3,>=1.21.1 in c:\\users\\admin\\appdata\\roaming\\python\\python310\\site-packages (from requests<3,>=2.27->streamlit) (2.3.0)\n",
            "Requirement already satisfied: certifi>=2017.4.17 in c:\\users\\admin\\appdata\\roaming\\python\\python310\\site-packages (from requests<3,>=2.27->streamlit) (2024.12.14)\n",
            "Requirement already satisfied: markdown-it-py>=2.2.0 in c:\\users\\admin\\appdata\\roaming\\python\\python310\\site-packages (from rich<14,>=10.14.0->streamlit) (3.0.0)\n",
            "Requirement already satisfied: pygments<3.0.0,>=2.13.0 in c:\\users\\admin\\appdata\\roaming\\python\\python310\\site-packages (from rich<14,>=10.14.0->streamlit) (2.19.1)\n",
            "Collecting smmap<6,>=3.0.1 (from gitdb<5,>=4.0.1->gitpython!=3.1.19,<4,>=3.0.7->streamlit)\n",
            "  Downloading smmap-5.0.2-py3-none-any.whl.metadata (4.3 kB)\n",
            "Requirement already satisfied: MarkupSafe>=2.0 in c:\\users\\admin\\appdata\\roaming\\python\\python310\\site-packages (from jinja2->altair<6,>=4.0->streamlit) (3.0.2)\n",
            "Collecting attrs>=22.2.0 (from jsonschema>=3.0->altair<6,>=4.0->streamlit)\n",
            "  Downloading attrs-24.3.0-py3-none-any.whl.metadata (11 kB)\n",
            "Collecting jsonschema-specifications>=2023.03.6 (from jsonschema>=3.0->altair<6,>=4.0->streamlit)\n",
            "  Using cached jsonschema_specifications-2024.10.1-py3-none-any.whl.metadata (3.0 kB)\n",
            "Collecting referencing>=0.28.4 (from jsonschema>=3.0->altair<6,>=4.0->streamlit)\n",
            "  Using cached referencing-0.35.1-py3-none-any.whl.metadata (2.8 kB)\n",
            "Collecting rpds-py>=0.7.1 (from jsonschema>=3.0->altair<6,>=4.0->streamlit)\n",
            "  Downloading rpds_py-0.22.3-cp310-cp310-win_amd64.whl.metadata (4.2 kB)\n",
            "Requirement already satisfied: mdurl~=0.1 in c:\\users\\admin\\appdata\\roaming\\python\\python310\\site-packages (from markdown-it-py>=2.2.0->rich<14,>=10.14.0->streamlit) (0.1.2)\n",
            "Requirement already satisfied: six>=1.5 in c:\\users\\admin\\appdata\\roaming\\python\\python310\\site-packages (from python-dateutil>=2.8.2->pandas<3,>=1.4.0->streamlit) (1.17.0)\n",
            "Downloading streamlit-1.41.1-py2.py3-none-any.whl (9.1 MB)\n",
            "   ---------------------------------------- 0.0/9.1 MB ? eta -:--:--\n",
            "   --- ------------------------------------ 0.8/9.1 MB 6.7 MB/s eta 0:00:02\n",
            "   ---------- ----------------------------- 2.4/9.1 MB 7.1 MB/s eta 0:00:01\n",
            "   ---------------- ----------------------- 3.7/9.1 MB 6.8 MB/s eta 0:00:01\n",
            "   ------------------ --------------------- 4.2/9.1 MB 5.9 MB/s eta 0:00:01\n",
            "   ------------------------ --------------- 5.5/9.1 MB 5.7 MB/s eta 0:00:01\n",
            "   ---------------------------- ----------- 6.6/9.1 MB 5.6 MB/s eta 0:00:01\n",
            "   --------------------------------- ------ 7.6/9.1 MB 5.5 MB/s eta 0:00:01\n",
            "   ---------------------------------------  8.9/9.1 MB 5.5 MB/s eta 0:00:01\n",
            "   ---------------------------------------- 9.1/9.1 MB 5.3 MB/s eta 0:00:00\n",
            "Downloading altair-5.5.0-py3-none-any.whl (731 kB)\n",
            "   ---------------------------------------- 0.0/731.2 kB ? eta -:--:--\n",
            "   ---------------------------------------- 731.2/731.2 kB 2.7 MB/s eta 0:00:00\n",
            "Using cached cachetools-5.5.0-py3-none-any.whl (9.5 kB)\n",
            "Downloading GitPython-3.1.44-py3-none-any.whl (207 kB)\n",
            "Downloading pyarrow-19.0.0-cp310-cp310-win_amd64.whl (25.3 MB)\n",
            "   ---------------------------------------- 0.0/25.3 MB ? eta -:--:--\n",
            "   - -------------------------------------- 1.0/25.3 MB 6.3 MB/s eta 0:00:04\n",
            "   --- ------------------------------------ 2.4/25.3 MB 6.1 MB/s eta 0:00:04\n",
            "   ----- ---------------------------------- 3.7/25.3 MB 5.9 MB/s eta 0:00:04\n",
            "   ------- -------------------------------- 5.0/25.3 MB 5.9 MB/s eta 0:00:04\n",
            "   --------- ------------------------------ 6.3/25.3 MB 5.9 MB/s eta 0:00:04\n",
            "   ------------ --------------------------- 7.6/25.3 MB 5.9 MB/s eta 0:00:04\n",
            "   ------------- -------------------------- 8.7/25.3 MB 5.8 MB/s eta 0:00:03\n",
            "   --------------- ------------------------ 10.0/25.3 MB 5.8 MB/s eta 0:00:03\n",
            "   ----------------- ---------------------- 11.3/25.3 MB 5.8 MB/s eta 0:00:03\n",
            "   ------------------- -------------------- 12.6/25.3 MB 5.9 MB/s eta 0:00:03\n",
            "   --------------------- ------------------ 13.6/25.3 MB 5.9 MB/s eta 0:00:02\n",
            "   ----------------------- ---------------- 14.9/25.3 MB 5.9 MB/s eta 0:00:02\n",
            "   ------------------------- -------------- 16.3/25.3 MB 5.8 MB/s eta 0:00:02\n",
            "   --------------------------- ------------ 17.3/25.3 MB 5.9 MB/s eta 0:00:02\n",
            "   ----------------------------- ---------- 18.6/25.3 MB 5.8 MB/s eta 0:00:02\n",
            "   ------------------------------- -------- 19.7/25.3 MB 5.9 MB/s eta 0:00:01\n",
            "   --------------------------------- ------ 21.0/25.3 MB 5.8 MB/s eta 0:00:01\n",
            "   ----------------------------------- ---- 22.3/25.3 MB 5.8 MB/s eta 0:00:01\n",
            "   ------------------------------------ --- 23.3/25.3 MB 5.8 MB/s eta 0:00:01\n",
            "   -------------------------------------- - 24.6/25.3 MB 5.8 MB/s eta 0:00:01\n",
            "   ---------------------------------------- 25.3/25.3 MB 5.7 MB/s eta 0:00:00\n",
            "Using cached pydeck-0.9.1-py2.py3-none-any.whl (6.9 MB)\n",
            "Using cached tenacity-9.0.0-py3-none-any.whl (28 kB)\n",
            "Using cached toml-0.10.2-py2.py3-none-any.whl (16 kB)\n",
            "Using cached watchdog-6.0.0-py3-none-win_amd64.whl (79 kB)\n",
            "Downloading gitdb-4.0.12-py3-none-any.whl (62 kB)\n",
            "Using cached jsonschema-4.23.0-py3-none-any.whl (88 kB)\n",
            "Downloading narwhals-1.22.0-py3-none-any.whl (297 kB)\n",
            "Downloading attrs-24.3.0-py3-none-any.whl (63 kB)\n",
            "Using cached jsonschema_specifications-2024.10.1-py3-none-any.whl (18 kB)\n",
            "Using cached referencing-0.35.1-py3-none-any.whl (26 kB)\n",
            "Downloading rpds_py-0.22.3-cp310-cp310-win_amd64.whl (231 kB)\n",
            "Downloading smmap-5.0.2-py3-none-any.whl (24 kB)\n",
            "Installing collected packages: watchdog, toml, tenacity, smmap, rpds-py, pyarrow, narwhals, cachetools, attrs, referencing, pydeck, gitdb, jsonschema-specifications, gitpython, jsonschema, altair, streamlit\n",
            "Successfully installed altair-5.5.0 attrs-24.3.0 cachetools-5.5.0 gitdb-4.0.12 gitpython-3.1.44 jsonschema-4.23.0 jsonschema-specifications-2024.10.1 narwhals-1.22.0 pyarrow-19.0.0 pydeck-0.9.1 referencing-0.35.1 rpds-py-0.22.3 smmap-5.0.2 streamlit-1.41.1 tenacity-9.0.0 toml-0.10.2 watchdog-6.0.0\n",
            "Note: you may need to restart the kernel to use updated packages.\n"
          ]
        }
      ],
      "source": [
        "!pip install streamlit\n"
      ]
    },
    {
      "cell_type": "code",
      "execution_count": null,
      "metadata": {
        "colab": {
          "base_uri": "https://localhost:8080/"
        },
        "id": "kSZ0HGNQeOyV",
        "outputId": "59b42ea1-b134-48f4-b0d8-6573f7220829"
      },
      "outputs": [
        {
          "name": "stderr",
          "output_type": "stream",
          "text": [
            "[nltk_data] Downloading package stopwords to\n",
            "[nltk_data]     C:\\Users\\admin\\AppData\\Roaming\\nltk_data...\n",
            "[nltk_data]   Package stopwords is already up-to-date!\n",
            "[nltk_data] Downloading package punkt to\n",
            "[nltk_data]     C:\\Users\\admin\\AppData\\Roaming\\nltk_data...\n",
            "[nltk_data]   Package punkt is already up-to-date!\n",
            "2025-01-16 20:03:17.234 WARNING streamlit.runtime.scriptrunner_utils.script_run_context: Thread 'MainThread': missing ScriptRunContext! This warning can be ignored when running in bare mode.\n",
            "2025-01-16 20:03:17.424 \n",
            "  \u001b[33m\u001b[1mWarning:\u001b[0m to view this Streamlit app on a browser, run it with the following\n",
            "  command:\n",
            "\n",
            "    streamlit run C:\\Users\\admin\\AppData\\Roaming\\Python\\Python310\\site-packages\\ipykernel_launcher.py [ARGUMENTS]\n",
            "2025-01-16 20:03:17.424 Thread 'MainThread': missing ScriptRunContext! This warning can be ignored when running in bare mode.\n",
            "2025-01-16 20:03:17.424 Thread 'MainThread': missing ScriptRunContext! This warning can be ignored when running in bare mode.\n",
            "2025-01-16 20:03:17.431 Thread 'MainThread': missing ScriptRunContext! This warning can be ignored when running in bare mode.\n",
            "2025-01-16 20:03:17.431 Thread 'MainThread': missing ScriptRunContext! This warning can be ignored when running in bare mode.\n",
            "2025-01-16 20:03:17.431 Thread 'MainThread': missing ScriptRunContext! This warning can be ignored when running in bare mode.\n",
            "2025-01-16 20:03:17.431 Thread 'MainThread': missing ScriptRunContext! This warning can be ignored when running in bare mode.\n",
            "2025-01-16 20:03:17.431 Thread 'MainThread': missing ScriptRunContext! This warning can be ignored when running in bare mode.\n",
            "2025-01-16 20:03:17.431 Thread 'MainThread': missing ScriptRunContext! This warning can be ignored when running in bare mode.\n",
            "2025-01-16 20:03:17.439 Thread 'MainThread': missing ScriptRunContext! This warning can be ignored when running in bare mode.\n",
            "2025-01-16 20:03:17.442 Thread 'MainThread': missing ScriptRunContext! This warning can be ignored when running in bare mode.\n"
          ]
        }
      ],
      "source": []
    },
    {
      "cell_type": "code",
      "execution_count": null,
      "metadata": {
        "id": "z34IyaxIe5ig"
      },
      "outputs": [],
      "source": []
    }
  ],
  "metadata": {
    "colab": {
      "provenance": []
    },
    "kernelspec": {
      "display_name": "Python 3",
      "name": "python3"
    },
    "language_info": {
      "codemirror_mode": {
        "name": "ipython",
        "version": 3
      },
      "file_extension": ".py",
      "mimetype": "text/x-python",
      "name": "python",
      "nbconvert_exporter": "python",
      "pygments_lexer": "ipython3",
      "version": "3.10.10"
    }
  },
  "nbformat": 4,
  "nbformat_minor": 0
}
